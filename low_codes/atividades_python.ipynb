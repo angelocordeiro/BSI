{
    "cells": [
        {
            "cell_type": "markdown",
            "source": [
                "# Numero opositor"
            ],
            "metadata": {}
        },
        {
            "cell_type": "code",
            "execution_count": 37,
            "source": [
                "def opposite(number):\r\n",
                "    m = 1\r\n",
                "    n = number\r\n",
                "\r\n",
                "    if (n > 0):\r\n",
                "        m = n*2\r\n",
                "        n = n-m\r\n",
                "        return n\r\n",
                "    elif (n < 0):\r\n",
                "        m = n*2\r\n",
                "        n = n-m\r\n",
                "        return n\r\n",
                "    else:\r\n",
                "        return n\r\n",
                "\r\n",
                "\r\n",
                "opposite(10)"
            ],
            "outputs": [
                {
                    "output_type": "execute_result",
                    "data": {
                        "text/plain": [
                            "-10"
                        ]
                    },
                    "metadata": {},
                    "execution_count": 37
                }
            ],
            "metadata": {}
        },
        {
            "cell_type": "markdown",
            "source": [
                "# Par = Even Impar = Odd"
            ],
            "metadata": {}
        },
        {
            "cell_type": "code",
            "execution_count": 52,
            "source": [
                "def even_or_odd(number):\r\n",
                "    \r\n",
                "    if (number % 2 == 0):\r\n",
                "        return \"Even\"\r\n",
                "    else:\r\n",
                "        return \"Odd\"\r\n",
                "\r\n",
                "even_or_odd(5)"
            ],
            "outputs": [
                {
                    "output_type": "execute_result",
                    "data": {
                        "text/plain": [
                            "'Odd'"
                        ]
                    },
                    "metadata": {},
                    "execution_count": 52
                }
            ],
            "metadata": {}
        },
        {
            "cell_type": "markdown",
            "source": [
                "# Somatório"
            ],
            "metadata": {}
        },
        {
            "cell_type": "code",
            "execution_count": 65,
            "source": [
                "def summation(number):\r\n",
                "    n = 0\r\n",
                "    m= 0\r\n",
                "    while number > 0:\r\n",
                "        number = number-1\r\n",
                "        n = n + 1\r\n",
                "        print(n)\r\n",
                "        m = m + n\r\n",
                "    \r\n",
                "    return m\r\n",
                "\r\n",
                "\r\n",
                "summation(1)"
            ],
            "outputs": [
                {
                    "output_type": "stream",
                    "name": "stdout",
                    "text": [
                        "1\n"
                    ]
                },
                {
                    "output_type": "execute_result",
                    "data": {
                        "text/plain": [
                            "1"
                        ]
                    },
                    "metadata": {},
                    "execution_count": 65
                }
            ],
            "metadata": {}
        },
        {
            "cell_type": "markdown",
            "source": [
                "# Add Binary"
            ],
            "metadata": {}
        },
        {
            "cell_type": "code",
            "execution_count": 110,
            "source": [
                "def add_binary(a,b):\r\n",
                "    return bin(b+a)[2:]\r\n",
                "\r\n",
                "add_binary(2,3)"
            ],
            "outputs": [
                {
                    "output_type": "execute_result",
                    "data": {
                        "text/plain": [
                            "'101'"
                        ]
                    },
                    "metadata": {},
                    "execution_count": 110
                }
            ],
            "metadata": {}
        },
        {
            "cell_type": "markdown",
            "source": [
                "# Retorno Negativo"
            ],
            "metadata": {}
        },
        {
            "cell_type": "code",
            "execution_count": 114,
            "source": [
                "def make_negative(number):\r\n",
                "    m = 1\r\n",
                "    if (number > 0):\r\n",
                "        m = number*2\r\n",
                "        number = number-m\r\n",
                "        return number\r\n",
                "    else:\r\n",
                "        return number\r\n",
                "\r\n",
                "\r\n",
                "make_negative(0)"
            ],
            "outputs": [
                {
                    "output_type": "execute_result",
                    "data": {
                        "text/plain": [
                            "0"
                        ]
                    },
                    "metadata": {},
                    "execution_count": 114
                }
            ],
            "metadata": {}
        },
        {
            "cell_type": "markdown",
            "source": [
                "# Exes e Ohs\r\n"
            ],
            "metadata": {}
        },
        {
            "cell_type": "code",
            "execution_count": 150,
            "source": [
                "def xo(s):\r\n",
                "    cont_x = 0\r\n",
                "    cont_o = 0\r\n",
                "\r\n",
                "    for i in s:\r\n",
                "        if i.lower() == 'x':\r\n",
                "            cont_x += 1\r\n",
                "        elif i.lower() == 'o':\r\n",
                "            cont_o += 1\r\n",
                "    if cont_o == cont_x:\r\n",
                "        return True\r\n",
                "    else:\r\n",
                "        return False\r\n",
                "\r\n",
                "s = 'xxoo'\r\n",
                "xo(s)"
            ],
            "outputs": [
                {
                    "output_type": "execute_result",
                    "data": {
                        "text/plain": [
                            "True"
                        ]
                    },
                    "metadata": {},
                    "execution_count": 150
                }
            ],
            "metadata": {}
        },
        {
            "cell_type": "markdown",
            "source": [
                "\r\n",
                "# Torre de Construção"
            ],
            "metadata": {}
        },
        {
            "cell_type": "code",
            "execution_count": 38,
            "source": [
                "def tower_builder(b):\r\n",
                "    base = 1\r\n",
                "    for _ in range(b-1):\r\n",
                "        base += 2\r\n",
                "    \r\n",
                "    esp = int(base/2)\r\n",
                "    lista = []\r\n",
                "    for i in range(1,b*2,2):\r\n",
                "        s = (' '*esp + '*'*i + ' '*esp)\r\n",
                "        lista.append(s)\r\n",
                "        esp -= 1\r\n",
                "\r\n",
                "    return lista\r\n",
                "\r\n",
                "lista = tower_builder(1)\r\n",
                "\r\n",
                "for _ in lista:\r\n",
                "    print(_)\r\n"
            ],
            "outputs": [
                {
                    "output_type": "stream",
                    "name": "stdout",
                    "text": [
                        "*\n"
                    ]
                }
            ],
            "metadata": {}
        },
        {
            "cell_type": "markdown",
            "source": [
                "\r\n",
                "# Abreviar um Nome de Duas Palavras"
            ],
            "metadata": {}
        },
        {
            "cell_type": "code",
            "execution_count": 1,
            "source": [
                "def abbrev_name(name):\r\n",
                "    return (name.split()[0][0] + '.' + name.split()[1][0]).upper()\r\n",
                "\r\n",
                "\r\n",
                "abbrev_name('Angelo Cordeiro')"
            ],
            "outputs": [
                {
                    "output_type": "execute_result",
                    "data": {
                        "text/plain": [
                            "'A.C'"
                        ]
                    },
                    "metadata": {},
                    "execution_count": 1
                }
            ],
            "metadata": {}
        },
        {
            "cell_type": "markdown",
            "source": [
                "# Pare de rarig sahnim !sarvalap"
            ],
            "metadata": {}
        },
        {
            "cell_type": "code",
            "execution_count": 23,
            "source": [
                "def spin_words(sentence):\r\n",
                "    s = sentence.split()\r\n",
                "    lista = []\r\n",
                "\r\n",
                "    for i in s:\r\n",
                "        if len(i) >= 5: #Checar se a palavra tem mais de 5 letras\r\n",
                "            i = i[::-1]\r\n",
                "            lista.append(i)\r\n",
                "        else: \r\n",
                "            lista.append(i)\r\n",
                "    return ' '.join(p for p in lista) #Transformar a lista em uma string\r\n",
                "\r\n",
                "spin_words('Pare de girar minhas palavras!')\r\n"
            ],
            "outputs": [
                {
                    "output_type": "execute_result",
                    "data": {
                        "text/plain": [
                            "'Pare de rarig sahnim !sarvalap'"
                        ]
                    },
                    "metadata": {},
                    "execution_count": 23
                }
            ],
            "metadata": {}
        },
        {
            "cell_type": "markdown",
            "source": [
                "# Bin Count"
            ],
            "metadata": {}
        },
        {
            "cell_type": "code",
            "execution_count": 47,
            "source": [
                "def count_bits(n):\r\n",
                "    return bin(n).count('1')\r\n",
                "\r\n",
                "\r\n",
                "count_bits(10)"
            ],
            "outputs": [
                {
                    "output_type": "execute_result",
                    "data": {
                        "text/plain": [
                            "2"
                        ]
                    },
                    "metadata": {},
                    "execution_count": 47
                }
            ],
            "metadata": {}
        },
        {
            "cell_type": "markdown",
            "source": [
                "# Your order, please"
            ],
            "metadata": {}
        },
        {
            "cell_type": "code",
            "execution_count": 84,
            "source": [
                "def order(sentence):\r\n",
                "    lista = []\r\n",
                "    for i in sentence:\r\n",
                "        a = i.isnumeric()\r\n",
                "        if a == True:\r\n",
                "            lista.append(int(i))\r\n",
                "            lista = sorted(lista)\r\n",
                "    \r\n",
                "    listaf = []\r\n",
                "\r\n",
                "    for i in lista:\r\n",
                "        for j in sentence.split():\r\n",
                "            if str(i) in j:\r\n",
                "                listaf.append(j)\r\n",
                "            \r\n",
                "    return ' '.join(listaf)\r\n",
                "    \r\n",
                "order('is2 Thi1s T4est 3a')"
            ],
            "outputs": [
                {
                    "output_type": "execute_result",
                    "data": {
                        "text/plain": [
                            "'Thi1s is2 3a T4est'"
                        ]
                    },
                    "metadata": {},
                    "execution_count": 84
                }
            ],
            "metadata": {}
        }
    ],
    "metadata": {
        "orig_nbformat": 4,
        "language_info": {
            "name": "python",
            "version": "3.9.7",
            "mimetype": "text/x-python",
            "codemirror_mode": {
                "name": "ipython",
                "version": 3
            },
            "pygments_lexer": "ipython3",
            "nbconvert_exporter": "python",
            "file_extension": ".py"
        },
        "kernelspec": {
            "name": "python3",
            "display_name": "Python 3.9.7 64-bit"
        },
        "interpreter": {
            "hash": "63fd5069d213b44bf678585dea6b12cceca9941eaf7f819626cde1f2670de90d"
        }
    },
    "nbformat": 4,
    "nbformat_minor": 2
}